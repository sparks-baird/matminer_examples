{
 "cells": [
  {
   "cell_type": "code",
   "execution_count": 1,
   "metadata": {},
   "outputs": [
    {
     "name": "stdout",
     "output_type": "stream",
     "text": [
      "Requirement already satisfied: matminer in c:\\users\\sterg\\anaconda3\\envs\\cgcnn\\lib\\site-packages (0.6.4)\n",
      "Requirement already satisfied: monty>=3.0.2 in c:\\users\\sterg\\anaconda3\\envs\\cgcnn\\lib\\site-packages (from matminer) (4.0.0)\n",
      "Requirement already satisfied: jsonschema>=3.2.0 in c:\\users\\sterg\\anaconda3\\envs\\cgcnn\\lib\\site-packages (from matminer) (3.2.0)\n",
      "Requirement already satisfied: pandas>=1.0.4 in c:\\users\\sterg\\anaconda3\\envs\\cgcnn\\lib\\site-packages (from matminer) (1.2.1)\n",
      "Requirement already satisfied: tqdm>=4.46.0 in c:\\users\\sterg\\anaconda3\\envs\\cgcnn\\lib\\site-packages (from matminer) (4.56.0)\n",
      "Requirement already satisfied: numpy>=1.19.1 in c:\\users\\sterg\\anaconda3\\envs\\cgcnn\\lib\\site-packages (from matminer) (1.19.2)\n",
      "Requirement already satisfied: requests>=2.23.0 in c:\\users\\sterg\\anaconda3\\envs\\cgcnn\\lib\\site-packages (from matminer) (2.25.1)\n",
      "Requirement already satisfied: future>=0.18.2 in c:\\users\\sterg\\anaconda3\\envs\\cgcnn\\lib\\site-packages (from matminer) (0.18.2)\n",
      "Requirement already satisfied: plotly>=4.8.1 in c:\\users\\sterg\\anaconda3\\envs\\cgcnn\\lib\\site-packages (from matminer) (4.14.3)\n",
      "Requirement already satisfied: sympy>=1.6 in c:\\users\\sterg\\anaconda3\\envs\\cgcnn\\lib\\site-packages (from matminer) (1.7.1)\n",
      "Requirement already satisfied: scikit-learn>=0.23.1 in c:\\users\\sterg\\anaconda3\\envs\\cgcnn\\lib\\site-packages (from matminer) (0.23.2)\n",
      "Requirement already satisfied: six>=1.15.0 in c:\\users\\sterg\\anaconda3\\envs\\cgcnn\\lib\\site-packages (from matminer) (1.15.0)\n",
      "Requirement already satisfied: pymongo>=3.10.1 in c:\\users\\sterg\\anaconda3\\envs\\cgcnn\\lib\\site-packages (from matminer) (3.11.2)\n",
      "Requirement already satisfied: pymatgen>=2020.4.29 in c:\\users\\sterg\\anaconda3\\envs\\cgcnn\\lib\\site-packages (from matminer) (2020.8.13)\n",
      "Requirement already satisfied: pint>=0.11 in c:\\users\\sterg\\anaconda3\\envs\\cgcnn\\lib\\site-packages (from matminer) (0.16.1)\n",
      "Requirement already satisfied: attrs>=17.4.0 in c:\\users\\sterg\\anaconda3\\envs\\cgcnn\\lib\\site-packages (from jsonschema>=3.2.0->matminer) (20.3.0)\n",
      "Requirement already satisfied: pyrsistent>=0.14.0 in c:\\users\\sterg\\anaconda3\\envs\\cgcnn\\lib\\site-packages (from jsonschema>=3.2.0->matminer) (0.17.3)\n",
      "Requirement already satisfied: setuptools in c:\\users\\sterg\\anaconda3\\envs\\cgcnn\\lib\\site-packages (from jsonschema>=3.2.0->matminer) (52.0.0.post20210125)\n",
      "Requirement already satisfied: python-dateutil>=2.7.3 in c:\\users\\sterg\\anaconda3\\envs\\cgcnn\\lib\\site-packages (from pandas>=1.0.4->matminer) (2.8.1)\n",
      "Requirement already satisfied: pytz>=2017.3 in c:\\users\\sterg\\anaconda3\\envs\\cgcnn\\lib\\site-packages (from pandas>=1.0.4->matminer) (2021.1)\n",
      "Requirement already satisfied: packaging in c:\\users\\sterg\\anaconda3\\envs\\cgcnn\\lib\\site-packages (from pint>=0.11->matminer) (20.9)\n",
      "Requirement already satisfied: retrying>=1.3.3 in c:\\users\\sterg\\anaconda3\\envs\\cgcnn\\lib\\site-packages (from plotly>=4.8.1->matminer) (1.3.3)\n",
      "Requirement already satisfied: scipy>=1.5.0 in c:\\users\\sterg\\anaconda3\\envs\\cgcnn\\lib\\site-packages (from pymatgen>=2020.4.29->matminer) (1.6.0)\n",
      "Requirement already satisfied: tabulate in c:\\users\\sterg\\anaconda3\\envs\\cgcnn\\lib\\site-packages (from pymatgen>=2020.4.29->matminer) (0.8.7)\n",
      "Requirement already satisfied: networkx>=2.2 in c:\\users\\sterg\\anaconda3\\envs\\cgcnn\\lib\\site-packages (from pymatgen>=2020.4.29->matminer) (2.5)\n",
      "Requirement already satisfied: spglib>=1.9.9.44 in c:\\users\\sterg\\anaconda3\\envs\\cgcnn\\lib\\site-packages (from pymatgen>=2020.4.29->matminer) (1.16.0)\n",
      "Requirement already satisfied: palettable>=3.1.1 in c:\\users\\sterg\\anaconda3\\envs\\cgcnn\\lib\\site-packages (from pymatgen>=2020.4.29->matminer) (3.3.0)\n",
      "Requirement already satisfied: matplotlib>=1.5 in c:\\users\\sterg\\anaconda3\\envs\\cgcnn\\lib\\site-packages (from pymatgen>=2020.4.29->matminer) (3.3.4)\n",
      "Requirement already satisfied: ruamel.yaml>=0.15.6 in c:\\users\\sterg\\anaconda3\\envs\\cgcnn\\lib\\site-packages (from pymatgen>=2020.4.29->matminer) (0.16.12)\n",
      "Requirement already satisfied: pillow>=6.2.0 in c:\\users\\sterg\\anaconda3\\envs\\cgcnn\\lib\\site-packages (from matplotlib>=1.5->pymatgen>=2020.4.29->matminer) (8.1.0)\n",
      "Requirement already satisfied: kiwisolver>=1.0.1 in c:\\users\\sterg\\anaconda3\\envs\\cgcnn\\lib\\site-packages (from matplotlib>=1.5->pymatgen>=2020.4.29->matminer) (1.3.1)\n",
      "Requirement already satisfied: pyparsing!=2.0.4,!=2.1.2,!=2.1.6,>=2.0.3 in c:\\users\\sterg\\anaconda3\\envs\\cgcnn\\lib\\site-packages (from matplotlib>=1.5->pymatgen>=2020.4.29->matminer) (2.4.7)\n",
      "Requirement already satisfied: cycler>=0.10 in c:\\users\\sterg\\anaconda3\\envs\\cgcnn\\lib\\site-packages (from matplotlib>=1.5->pymatgen>=2020.4.29->matminer) (0.10.0)\n",
      "Requirement already satisfied: decorator>=4.3.0 in c:\\users\\sterg\\anaconda3\\envs\\cgcnn\\lib\\site-packages (from networkx>=2.2->pymatgen>=2020.4.29->matminer) (4.4.2)\n",
      "Requirement already satisfied: chardet<5,>=3.0.2 in c:\\users\\sterg\\anaconda3\\envs\\cgcnn\\lib\\site-packages (from requests>=2.23.0->matminer) (4.0.0)\n",
      "Requirement already satisfied: urllib3<1.27,>=1.21.1 in c:\\users\\sterg\\anaconda3\\envs\\cgcnn\\lib\\site-packages (from requests>=2.23.0->matminer) (1.26.3)\n",
      "Requirement already satisfied: certifi>=2017.4.17 in c:\\users\\sterg\\anaconda3\\envs\\cgcnn\\lib\\site-packages (from requests>=2.23.0->matminer) (2020.12.5)\n",
      "Requirement already satisfied: idna<3,>=2.5 in c:\\users\\sterg\\anaconda3\\envs\\cgcnn\\lib\\site-packages (from requests>=2.23.0->matminer) (2.10)\n",
      "Requirement already satisfied: ruamel.yaml.clib>=0.1.2 in c:\\users\\sterg\\anaconda3\\envs\\cgcnn\\lib\\site-packages (from ruamel.yaml>=0.15.6->pymatgen>=2020.4.29->matminer) (0.2.2)\n",
      "Requirement already satisfied: threadpoolctl>=2.0.0 in c:\\users\\sterg\\anaconda3\\envs\\cgcnn\\lib\\site-packages (from scikit-learn>=0.23.1->matminer) (2.1.0)\n",
      "Requirement already satisfied: joblib>=0.11 in c:\\users\\sterg\\anaconda3\\envs\\cgcnn\\lib\\site-packages (from scikit-learn>=0.23.1->matminer) (1.0.0)\n",
      "Requirement already satisfied: mpmath>=0.19 in c:\\users\\sterg\\anaconda3\\envs\\cgcnn\\lib\\site-packages (from sympy>=1.6->matminer) (1.1.0)\n",
      "Note: you may need to restart the kernel to use updated packages.\n"
     ]
    }
   ],
   "source": [
    "pip install matminer"
   ]
  },
  {
   "cell_type": "code",
   "execution_count": 2,
   "metadata": {},
   "outputs": [
    {
     "name": "stdout",
     "output_type": "stream",
     "text": [
      "added C:\\Users\\sterg\\Documents\\GitHub\\sparks-baird\\phylo-mat\\code\\cgcnn\n",
      "completed operation for: C:\\Users\\sterg\\Documents\\GitHub\\sparks-baird\\phylo-mat\\code\\cgcnn\n",
      "\n",
      "Note: you may need to restart the kernel to use updated packages.\n"
     ]
    }
   ],
   "source": [
    "conda develop \"C:/Users/sterg/Documents/GitHub/sparks-baird/phylo-mat/code/cgcnn\""
   ]
  },
  {
   "cell_type": "code",
   "execution_count": 3,
   "metadata": {},
   "outputs": [],
   "source": [
    "import os\n",
    "from shutil import copyfile\n",
    "import pandas as pd"
   ]
  },
  {
   "cell_type": "code",
   "execution_count": 4,
   "metadata": {},
   "outputs": [],
   "source": [
    "import numpy as np"
   ]
  },
  {
   "cell_type": "code",
   "execution_count": 5,
   "metadata": {},
   "outputs": [],
   "source": [
    "import glob"
   ]
  },
  {
   "cell_type": "code",
   "execution_count": 6,
   "metadata": {},
   "outputs": [],
   "source": [
    "from pymatgen import Structure"
   ]
  },
  {
   "cell_type": "code",
   "execution_count": 7,
   "metadata": {},
   "outputs": [],
   "source": [
    "from matminer.featurizers.structure import CGCNNFeaturizer"
   ]
  },
  {
   "cell_type": "code",
   "execution_count": 8,
   "metadata": {},
   "outputs": [
    {
     "data": {
      "text/plain": [
       "(9507, 2)"
      ]
     },
     "execution_count": 8,
     "metadata": {},
     "output_type": "execute_result"
    }
   ],
   "source": [
    "properties = pd.read_csv(\"C:/Users/sterg/Documents/GitHub/cgcnn/data/cif-K_VRH/id_prop.csv\",header=None)\n",
    "properties.shape"
   ]
  },
  {
   "cell_type": "code",
   "execution_count": 9,
   "metadata": {},
   "outputs": [
    {
     "name": "stderr",
     "output_type": "stream",
     "text": [
      "C:\\Users\\sterg\\anaconda3\\envs\\cgcnn\\lib\\site-packages\\pymatgen\\io\\cif.py:1123: UserWarning: Issues encountered while parsing CIF: Some fractional co-ordinates rounded to ideal values to avoid issues with finite precision.\n",
      "  warnings.warn(\"Issues encountered while parsing CIF: %s\" % \"\\n\".join(self.warnings))\n"
     ]
    },
    {
     "name": "stdout",
     "output_type": "stream",
     "text": [
      "      K_VRH                                          structure\n",
      "0      89.0                                    [[0. 0. 0.] Cs]\n",
      "1     164.0  [[0. 0. 0.] Ba, [2.89438158 2.04663685 5.01321...\n",
      "2     104.0  [[ 1.69333912  0.9776498  10.60299963] Hf, [-4...\n",
      "3      33.0  [[2.07616833 0.94954182 2.511614  ] Nb, [4.152...\n",
      "4      96.0  [[0. 0. 0.] Al, [1.9651759  1.13459484 0.75350...\n",
      "...     ...                                                ...\n",
      "9502  115.0  [[1.46542997 0.84606639 1.959571  ] W, [0.    ...\n",
      "9503   33.0  [[3.52723706 2.49413324 6.1093538 ] Mn, [1.175...\n",
      "9504   19.0  [[0. 0. 0.] Mn, [1.15572927 0.81722401 2.00178...\n",
      "9505   90.0  [[0. 0. 0.] Mn, [3.54876808 2.50935797 6.14664...\n",
      "9506   79.0  [[0. 0. 0.] Ni, [ 2.4427789   1.45429054 -2.34...\n",
      "\n",
      "[9507 rows x 2 columns]\n"
     ]
    }
   ],
   "source": [
    "structures = []\n",
    "#for structure_file in os.listdir(\"C:/Users/sterg/Documents/GitHub/cgcnn/data/cif-K_VRH/*.cif\"):\n",
    "for structure_file in glob.glob(\"C:/Users/sterg/Documents/GitHub/cgcnn/data/cif-K_VRH/*.cif\"):\n",
    "    #structure_path = 'C:/Users/sterg/Documents/GitHub/cgcnn/data/cif-only-K_VRH/'+structure_file\n",
    "    structure_path = structure_file\n",
    "    structure = Structure.from_file(structure_path)\n",
    "    structures.append(structure)\n",
    "df = pd.DataFrame({\"K_VRH\": properties[1], \"structure\": structures})\n",
    "print(df) # make sure the dataframe appears like you intended\n",
    "df.to_pickle(\"C:/Users/sterg/Documents/GitHub/cgcnn/data/cif-K_VRH.p\")"
   ]
  },
  {
   "cell_type": "code",
   "execution_count": 10,
   "metadata": {},
   "outputs": [
    {
     "data": {
      "text/plain": [
       "Structure Summary\n",
       "Lattice\n",
       "    abc : 5.29144986 5.291449860000001 5.29144986\n",
       " angles : 109.47122063 109.47122063 109.47122063\n",
       " volume : 114.05180557995794\n",
       "      A : 4.988826771224387 0.0 -1.7638166196089895\n",
       "      B : -2.4944133847827348 4.320450719439106 -1.7638166196089895\n",
       "      C : 0.0 0.0 5.29144986\n",
       "PeriodicSite: Cs (0.0000, 0.0000, 0.0000) [0.0000, 0.0000, 0.0000]"
      ]
     },
     "execution_count": 10,
     "metadata": {},
     "output_type": "execute_result"
    }
   ],
   "source": [
    "df.structure[0]"
   ]
  },
  {
   "cell_type": "code",
   "execution_count": 11,
   "metadata": {},
   "outputs": [],
   "source": [
    "featurizer = CGCNNFeaturizer(task='regression', atom_init_fea=None, pretrained_name='bulk-moduli', warm_start_file=None, warm_start_latest=False, save_model_to_dir=None, save_checkpoint_to_dir=None, checkpoint_interval=100, del_checkpoint=True)\n",
    "#featurizer = CGCNNFeaturizer(task='regression', atom_init_fea=None, pretrained_name=None, warm_start_file=\"C:/Users/sterg/Documents/GitHub/cgcnn/model_best.pth.tar\", warm_start_latest=False, save_model_to_dir=None, save_checkpoint_to_dir=None, checkpoint_interval=100, del_checkpoint=True)\n",
    "#featurizer = CGCNNFeaturizer(task='regression', atom_init_fea=None, pretrained_name=None, warm_start_file=None, warm_start_latest=False, save_model_to_dir=None, save_checkpoint_to_dir=None, checkpoint_interval=100, del_checkpoint=True)"
   ]
  },
  {
   "cell_type": "code",
   "execution_count": null,
   "metadata": {},
   "outputs": [],
   "source": [
    "featurizer.__init__"
   ]
  },
  {
   "cell_type": "code",
   "execution_count": 12,
   "metadata": {},
   "outputs": [
    {
     "ename": "RuntimeError",
     "evalue": "Error(s) in loading state_dict for CrystalGraphConvNetWrapper:\n\tsize mismatch for conv_to_fc.weight: copying a param with shape torch.Size([32, 64]) from checkpoint, the shape in current model is torch.Size([128, 64]).\n\tsize mismatch for conv_to_fc.bias: copying a param with shape torch.Size([32]) from checkpoint, the shape in current model is torch.Size([128]).\n\tsize mismatch for fc_out.weight: copying a param with shape torch.Size([1, 32]) from checkpoint, the shape in current model is torch.Size([1, 128]).",
     "output_type": "error",
     "traceback": [
      "\u001b[1;31m---------------------------------------------------------------------------\u001b[0m",
      "\u001b[1;31mRuntimeError\u001b[0m                              Traceback (most recent call last)",
      "\u001b[1;32m<ipython-input-12-e7391551e901>\u001b[0m in \u001b[0;36m<module>\u001b[1;34m\u001b[0m\n\u001b[1;32m----> 1\u001b[1;33m \u001b[0mfeaturizer\u001b[0m\u001b[1;33m.\u001b[0m\u001b[0mfit\u001b[0m\u001b[1;33m(\u001b[0m\u001b[0mdf\u001b[0m\u001b[1;33m.\u001b[0m\u001b[0mstructure\u001b[0m\u001b[1;33m,\u001b[0m\u001b[0mdf\u001b[0m\u001b[1;33m.\u001b[0m\u001b[0mK_VRH\u001b[0m\u001b[1;33m)\u001b[0m\u001b[1;33m\u001b[0m\u001b[1;33m\u001b[0m\u001b[0m\n\u001b[0m",
      "\u001b[1;32m~\\anaconda3\\envs\\cgcnn\\lib\\site-packages\\matminer\\featurizers\\structure.py\u001b[0m in \u001b[0;36mfit\u001b[1;34m(self, X, y)\u001b[0m\n\u001b[0;32m   2493\u001b[0m         \u001b[1;31m# Get the CGCNN pre-trained model\u001b[0m\u001b[1;33m\u001b[0m\u001b[1;33m\u001b[0m\u001b[1;33m\u001b[0m\u001b[0m\n\u001b[0;32m   2494\u001b[0m         \u001b[1;32mif\u001b[0m \u001b[0mself\u001b[0m\u001b[1;33m.\u001b[0m\u001b[0mpretrained_name\u001b[0m \u001b[1;32mis\u001b[0m \u001b[1;32mnot\u001b[0m \u001b[1;32mNone\u001b[0m\u001b[1;33m:\u001b[0m\u001b[1;33m\u001b[0m\u001b[1;33m\u001b[0m\u001b[0m\n\u001b[1;32m-> 2495\u001b[1;33m             \u001b[0mself\u001b[0m\u001b[1;33m.\u001b[0m\u001b[0m_use_pretrained_model\u001b[0m\u001b[1;33m(\u001b[0m\u001b[0mmodel\u001b[0m\u001b[1;33m,\u001b[0m \u001b[0mself\u001b[0m\u001b[1;33m.\u001b[0m\u001b[0mpretrained_name\u001b[0m\u001b[1;33m)\u001b[0m\u001b[1;33m\u001b[0m\u001b[1;33m\u001b[0m\u001b[0m\n\u001b[0m\u001b[0;32m   2496\u001b[0m             \u001b[1;32mreturn\u001b[0m \u001b[0mself\u001b[0m\u001b[1;33m\u001b[0m\u001b[1;33m\u001b[0m\u001b[0m\n\u001b[0;32m   2497\u001b[0m \u001b[1;33m\u001b[0m\u001b[0m\n",
      "\u001b[1;32m~\\anaconda3\\envs\\cgcnn\\lib\\site-packages\\matminer\\featurizers\\structure.py\u001b[0m in \u001b[0;36m_use_pretrained_model\u001b[1;34m(self, model, pretrained_name)\u001b[0m\n\u001b[0;32m   2854\u001b[0m                 map_location=lambda storage, loc: storage)\n\u001b[0;32m   2855\u001b[0m \u001b[1;33m\u001b[0m\u001b[0m\n\u001b[1;32m-> 2856\u001b[1;33m             \u001b[0mmodel\u001b[0m\u001b[1;33m.\u001b[0m\u001b[0mload_state_dict\u001b[0m\u001b[1;33m(\u001b[0m\u001b[0mcheckpoint\u001b[0m\u001b[1;33m[\u001b[0m\u001b[1;34m'state_dict'\u001b[0m\u001b[1;33m]\u001b[0m\u001b[1;33m,\u001b[0m\u001b[0mstrict\u001b[0m\u001b[1;33m=\u001b[0m\u001b[1;32mFalse\u001b[0m\u001b[1;33m)\u001b[0m\u001b[1;33m\u001b[0m\u001b[1;33m\u001b[0m\u001b[0m\n\u001b[0m\u001b[0;32m   2857\u001b[0m             \u001b[0mself\u001b[0m\u001b[1;33m.\u001b[0m\u001b[0m_best_model\u001b[0m \u001b[1;33m=\u001b[0m \u001b[0mmodel\u001b[0m\u001b[1;33m\u001b[0m\u001b[1;33m\u001b[0m\u001b[0m\n\u001b[0;32m   2858\u001b[0m             \u001b[0mself\u001b[0m\u001b[1;33m.\u001b[0m\u001b[0m_latest_model\u001b[0m \u001b[1;33m=\u001b[0m \u001b[0mmodel\u001b[0m\u001b[1;33m\u001b[0m\u001b[1;33m\u001b[0m\u001b[0m\n",
      "\u001b[1;32m~\\anaconda3\\envs\\cgcnn\\lib\\site-packages\\torch\\nn\\modules\\module.py\u001b[0m in \u001b[0;36mload_state_dict\u001b[1;34m(self, state_dict, strict)\u001b[0m\n\u001b[0;32m    844\u001b[0m \u001b[1;33m\u001b[0m\u001b[0m\n\u001b[0;32m    845\u001b[0m         \u001b[1;32mif\u001b[0m \u001b[0mlen\u001b[0m\u001b[1;33m(\u001b[0m\u001b[0merror_msgs\u001b[0m\u001b[1;33m)\u001b[0m \u001b[1;33m>\u001b[0m \u001b[1;36m0\u001b[0m\u001b[1;33m:\u001b[0m\u001b[1;33m\u001b[0m\u001b[1;33m\u001b[0m\u001b[0m\n\u001b[1;32m--> 846\u001b[1;33m             raise RuntimeError('Error(s) in loading state_dict for {}:\\n\\t{}'.format(\n\u001b[0m\u001b[0;32m    847\u001b[0m                                self.__class__.__name__, \"\\n\\t\".join(error_msgs)))\n\u001b[0;32m    848\u001b[0m         \u001b[1;32mreturn\u001b[0m \u001b[0m_IncompatibleKeys\u001b[0m\u001b[1;33m(\u001b[0m\u001b[0mmissing_keys\u001b[0m\u001b[1;33m,\u001b[0m \u001b[0munexpected_keys\u001b[0m\u001b[1;33m)\u001b[0m\u001b[1;33m\u001b[0m\u001b[1;33m\u001b[0m\u001b[0m\n",
      "\u001b[1;31mRuntimeError\u001b[0m: Error(s) in loading state_dict for CrystalGraphConvNetWrapper:\n\tsize mismatch for conv_to_fc.weight: copying a param with shape torch.Size([32, 64]) from checkpoint, the shape in current model is torch.Size([128, 64]).\n\tsize mismatch for conv_to_fc.bias: copying a param with shape torch.Size([32]) from checkpoint, the shape in current model is torch.Size([128]).\n\tsize mismatch for fc_out.weight: copying a param with shape torch.Size([1, 32]) from checkpoint, the shape in current model is torch.Size([1, 128])."
     ]
    }
   ],
   "source": [
    "featurizer.fit(df.structure,df.K_VRH)"
   ]
  },
  {
   "cell_type": "code",
   "execution_count": null,
   "metadata": {},
   "outputs": [],
   "source": [
    "%tb"
   ]
  },
  {
   "cell_type": "code",
   "execution_count": 13,
   "metadata": {},
   "outputs": [
    {
     "data": {
      "text/plain": [
       "CrystalGraphConvNetWrapper(\n",
       "  (embedding): Linear(in_features=92, out_features=64, bias=True)\n",
       "  (convs): ModuleList(\n",
       "    (0): ConvLayer(\n",
       "      (fc_full): Linear(in_features=169, out_features=128, bias=True)\n",
       "      (sigmoid): Sigmoid()\n",
       "      (softplus1): Softplus(beta=1, threshold=20)\n",
       "      (bn1): BatchNorm1d(128, eps=1e-05, momentum=0.1, affine=True, track_running_stats=True)\n",
       "      (bn2): BatchNorm1d(64, eps=1e-05, momentum=0.1, affine=True, track_running_stats=True)\n",
       "      (softplus2): Softplus(beta=1, threshold=20)\n",
       "    )\n",
       "    (1): ConvLayer(\n",
       "      (fc_full): Linear(in_features=169, out_features=128, bias=True)\n",
       "      (sigmoid): Sigmoid()\n",
       "      (softplus1): Softplus(beta=1, threshold=20)\n",
       "      (bn1): BatchNorm1d(128, eps=1e-05, momentum=0.1, affine=True, track_running_stats=True)\n",
       "      (bn2): BatchNorm1d(64, eps=1e-05, momentum=0.1, affine=True, track_running_stats=True)\n",
       "      (softplus2): Softplus(beta=1, threshold=20)\n",
       "    )\n",
       "    (2): ConvLayer(\n",
       "      (fc_full): Linear(in_features=169, out_features=128, bias=True)\n",
       "      (sigmoid): Sigmoid()\n",
       "      (softplus1): Softplus(beta=1, threshold=20)\n",
       "      (bn1): BatchNorm1d(128, eps=1e-05, momentum=0.1, affine=True, track_running_stats=True)\n",
       "      (bn2): BatchNorm1d(64, eps=1e-05, momentum=0.1, affine=True, track_running_stats=True)\n",
       "      (softplus2): Softplus(beta=1, threshold=20)\n",
       "    )\n",
       "  )\n",
       "  (conv_to_fc): Linear(in_features=64, out_features=128, bias=True)\n",
       "  (conv_to_fc_softplus): Softplus(beta=1, threshold=20)\n",
       "  (fc_out): Linear(in_features=128, out_features=1, bias=True)\n",
       ")"
      ]
     },
     "execution_count": 13,
     "metadata": {},
     "output_type": "execute_result"
    }
   ],
   "source": [
    "dir(featurizer)\n",
    "featurizer.model"
   ]
  },
  {
   "cell_type": "code",
   "execution_count": 14,
   "metadata": {},
   "outputs": [
    {
     "data": {
      "application/vnd.jupyter.widget-view+json": {
       "model_id": "3e94d583eeb047e9873f2af34c271b2f",
       "version_major": 2,
       "version_minor": 0
      },
      "text/plain": [
       "CGCNNFeaturizer:   0%|          | 0/9507 [00:00<?, ?it/s]"
      ]
     },
     "metadata": {},
     "output_type": "display_data"
    }
   ],
   "source": [
    "features = featurizer.featurize_many(df.structure,ignore_errors=True,return_errors=False,pbar=True)"
   ]
  },
  {
   "cell_type": "code",
   "execution_count": 15,
   "metadata": {},
   "outputs": [
    {
     "name": "stdout",
     "output_type": "stream",
     "text": [
      "(9507, 64)\n"
     ]
    },
    {
     "data": {
      "text/plain": [
       "array([1.37573373, 1.23462927, 1.16196263, 1.36911905, 1.31720543,\n",
       "       1.40154791, 1.24330628, 1.43035173, 1.63459027, 1.51304066,\n",
       "       1.21675014, 1.31668794, 1.42409384, 1.47255003, 1.4079994 ,\n",
       "       1.28732741, 1.32336462, 1.28203249, 1.36411798, 1.47177756,\n",
       "       1.30156195, 1.47156298, 1.19416833, 1.24935377, 1.31119406,\n",
       "       1.29552698, 1.27407646, 1.47710788, 1.50354016, 1.61430931,\n",
       "       1.32183707, 1.26828754, 1.25710285, 1.39060116, 1.24898636,\n",
       "       1.35720718, 1.22399402, 1.27981389, 1.22088349, 1.26210034,\n",
       "       1.19351184, 1.25716746, 1.26547062, 1.31304634, 1.23823953,\n",
       "       1.27775526, 1.14454794, 1.39645159, 1.26624322, 1.28061473,\n",
       "       1.31844151, 1.40172279, 1.49506128, 1.30037975, 1.26275694,\n",
       "       1.20761442, 1.27975655, 1.38074481, 1.35537803, 1.46591377,\n",
       "       1.27543914, 1.216537  , 1.38761342, 1.70867193])"
      ]
     },
     "execution_count": 15,
     "metadata": {},
     "output_type": "execute_result"
    }
   ],
   "source": [
    "X=np.array(features)\n",
    "print(X.shape)\n",
    "X[2500]"
   ]
  },
  {
   "cell_type": "code",
   "execution_count": 17,
   "metadata": {},
   "outputs": [
    {
     "data": {
      "text/plain": [
       "'C:\\\\Users\\\\sterg\\\\Documents\\\\GitHub\\\\sparks-baird\\\\phylo-mat\\\\code\\\\matminer_examples\\\\matminer_examples\\\\machine_learning-nb'"
      ]
     },
     "execution_count": 17,
     "metadata": {},
     "output_type": "execute_result"
    }
   ],
   "source": [
    "pwd"
   ]
  },
  {
   "cell_type": "code",
   "execution_count": 18,
   "metadata": {},
   "outputs": [
    {
     "data": {
      "text/plain": [
       "'../../../data/K_VRH-features.csv'"
      ]
     },
     "execution_count": 18,
     "metadata": {},
     "output_type": "execute_result"
    }
   ],
   "source": [
    "savepath = \"../../../cgcnn/data/K_VRH-features.csv\"\n",
    "copypath = \"../../../data/K_VRH-features.csv\"\n",
    "np.savetxt(savepath, X, delimiter=\",\")\n",
    "copyfile(savepath,copypath)"
   ]
  },
  {
   "cell_type": "code",
   "execution_count": 19,
   "metadata": {},
   "outputs": [
    {
     "data": {
      "text/plain": [
       "(9507, 64)"
      ]
     },
     "execution_count": 19,
     "metadata": {},
     "output_type": "execute_result"
    }
   ],
   "source": [
    "X.shape"
   ]
  },
  {
   "cell_type": "markdown",
   "metadata": {},
   "source": [
    "# Code Graveyard"
   ]
  },
  {
   "cell_type": "code",
   "execution_count": null,
   "metadata": {},
   "outputs": [],
   "source": [
    "featurizer = CGCNNFeaturizer(task='regression', atom_init_fea=None, pretrained_name=None, warm_start_file=\"../../../cgcnn/model_best.pth.tar\", warm_start_latest=False, save_model_to_dir=None, save_checkpoint_to_dir=None, checkpoint_interval=100, del_checkpoint=True)"
   ]
  },
  {
   "cell_type": "code",
   "execution_count": null,
   "metadata": {},
   "outputs": [],
   "source": [
    "dir(featurizer)"
   ]
  },
  {
   "cell_type": "code",
   "execution_count": null,
   "metadata": {},
   "outputs": [],
   "source": [
    "#featurizer = CGCNNFeaturizer(task='regression', atom_init_fea=None, pretrained_name=None, warm_start_file=None, warm_start_latest=False, save_model_to_dir=None, save_checkpoint_to_dir=None, checkpoint_interval=100, del_checkpoint=True)"
   ]
  },
  {
   "cell_type": "code",
   "execution_count": null,
   "metadata": {
    "scrolled": true
   },
   "outputs": [],
   "source": [
    "import os\n",
    "import pandas as pd\n",
    "from pymatgen import Structure"
   ]
  },
  {
   "cell_type": "code",
   "execution_count": null,
   "metadata": {},
   "outputs": [],
   "source": [
    "properties = pd.read_csv(\"id_prop.csv\")\n",
    "structures = []\n",
    "for i, structure_file in enumerate(os.listdir(\"C:/Users/sterg/Documents/GitHub/cgcnn/data/cif-K_VRH/*.cif\"):\n",
    "    property = get_property_from_index(i)\n",
    "    structure = Structure.from_file(structure_file)\n",
    "    properties.append(property)\n",
    "    structures.append(structure)\n",
    "    df = pd.DataFrame({“some_property”: properties, “structure”: structures})\n",
    "    print(df) # make sure the dataframe appears like you intended\n",
    "    df.to_pickle(\"/path/where/u/want/to/save/ur/dataframe.p\")"
   ]
  },
  {
   "cell_type": "code",
   "execution_count": null,
   "metadata": {},
   "outputs": [],
   "source": [
    "properties = []\n",
    "structures = []\n",
    "for i, structure_file in enumerate(os.listdir(\"C:/Users/sterg/Documents/GitHub/cgcnn/data/cif-K_VRH/*.cif\"):\n",
    "    property = get_property_from_index(i)\n",
    "    structure = Structure.from_file(structure_file)\n",
    "    properties.append(property)\n",
    "    structures.append(structure)\n",
    "    df = pd.DataFrame({“some_property”: properties, “structure”: structures})\n",
    "    print(df) # make sure the dataframe appears like you intended\n",
    "    df.to_pickle(\"/path/where/u/want/to/save/ur/dataframe.p\")"
   ]
  },
  {
   "cell_type": "code",
   "execution_count": null,
   "metadata": {},
   "outputs": [],
   "source": [
    "properties = pd.read_csv(\"C:/Users/sterg/Documents/GitHub/cgcnn/data/cif-K_VRH/id_prop.csv\",header=None)"
   ]
  },
  {
   "cell_type": "code",
   "execution_count": null,
   "metadata": {},
   "outputs": [],
   "source": [
    "props = properties[1]"
   ]
  },
  {
   "cell_type": "code",
   "execution_count": null,
   "metadata": {},
   "outputs": [],
   "source": [
    "from matminer.datasets import load_dataset"
   ]
  },
  {
   "cell_type": "code",
   "execution_count": null,
   "metadata": {},
   "outputs": [],
   "source": [
    "structures = []\n",
    "for structure_file in os.listdir(\"C:/Users/sterg/Documents/GitHub/cgcnn/data/cif-only-K_VRH/\"):\n",
    "    structure_path = 'C:/Users/sterg/Documents/GitHub/cgcnn/data/cif-only-K_VRH/'+structure_file\n",
    "    structure = Structure.from_file(structure_path)\n",
    "    structures.append(structure)\n",
    "df = pd.DataFrame({\"K_VRH\": properties[1], \"structure\": structures})\n",
    "print(df) # make sure the dataframe appears like you intended\n",
    "df.to_pickle(\"C:/Users/sterg/Documents/GitHub/cgcnn/data/cif-K_VRH.p\")"
   ]
  },
  {
   "cell_type": "code",
   "execution_count": null,
   "metadata": {},
   "outputs": [],
   "source": [
    "df = load_dataset(\"boltztrap_mp\");"
   ]
  },
  {
   "cell_type": "code",
   "execution_count": null,
   "metadata": {},
   "outputs": [],
   "source": [
    "featurizer.fit(df.structure,df.s_p)"
   ]
  },
  {
   "cell_type": "code",
   "execution_count": null,
   "metadata": {
    "scrolled": true
   },
   "outputs": [],
   "source": [
    "%tb"
   ]
  },
  {
   "cell_type": "code",
   "execution_count": null,
   "metadata": {},
   "outputs": [],
   "source": [
    "#featurizer.featurize_dataframe(df.mpid,df.structure)"
   ]
  },
  {
   "cell_type": "code",
   "execution_count": null,
   "metadata": {
    "scrolled": true
   },
   "outputs": [],
   "source": [
    "df"
   ]
  },
  {
   "cell_type": "code",
   "execution_count": null,
   "metadata": {},
   "outputs": [],
   "source": [
    "%matplotlib inline\n",
    "from matplotlib import pyplot as plt\n",
    "from matminer.datasets import load_dataset\n",
    "from matminer.featurizers.base import MultipleFeaturizer\n",
    "#from matminer.featurizers.composition import ElementProperty, Stoichiometry, ValenceOrbital, IonProperty\n",
    "#from matminer.featurizers.structure import (SiteStatsFingerprint, StructuralHeterogeneity,\n",
    "#                                            ChemicalOrdering, StructureComposition, MaximumPackingEfficiency)\n",
    "from matminer.featurizers.conversions import DictToObject\n",
    "from sklearn.ensemble import RandomForestRegressor\n",
    "from sklearn.model_selection import ShuffleSplit, train_test_split\n",
    "from sklearn.pipeline import Pipeline\n",
    "from sklearn.impute import SimpleImputer\n",
    "from scipy import stats\n",
    "from tqdm import tqdm_notebook as tqdm\n",
    "import numpy as np"
   ]
  },
  {
   "cell_type": "code",
   "execution_count": null,
   "metadata": {},
   "outputs": [],
   "source": [
    "pip install ipywidgets"
   ]
  },
  {
   "cell_type": "code",
   "execution_count": null,
   "metadata": {},
   "outputs": [],
   "source": [
    "dto = DictToObject(target_col_id='structure', overwrite_data=True)"
   ]
  },
  {
   "cell_type": "code",
   "execution_count": null,
   "metadata": {},
   "outputs": [],
   "source": [
    "df = dto.featurize_dataframe(df, 'structure')"
   ]
  },
  {
   "cell_type": "code",
   "execution_count": null,
   "metadata": {},
   "outputs": [],
   "source": [
    "featurizer.fit(df.structure,df.s_p)"
   ]
  },
  {
   "cell_type": "code",
   "execution_count": null,
   "metadata": {},
   "outputs": [],
   "source": []
  },
  {
   "cell_type": "code",
   "execution_count": null,
   "metadata": {
    "scrolled": true
   },
   "outputs": [],
   "source": [
    "X = featurizer.featurize_many(df['structure'], ignore_errors=False)"
   ]
  },
  {
   "cell_type": "code",
   "execution_count": null,
   "metadata": {},
   "outputs": [],
   "source": [
    "X = np.array(X)\n",
    "print('Input data shape:', X.shape)"
   ]
  },
  {
   "cell_type": "code",
   "execution_count": null,
   "metadata": {},
   "outputs": [],
   "source": []
  }
 ],
 "metadata": {
  "kernelspec": {
   "display_name": "Python 3",
   "language": "python",
   "name": "python3"
  },
  "language_info": {
   "codemirror_mode": {
    "name": "ipython",
    "version": 3
   },
   "file_extension": ".py",
   "mimetype": "text/x-python",
   "name": "python",
   "nbconvert_exporter": "python",
   "pygments_lexer": "ipython3",
   "version": "3.8.5"
  }
 },
 "nbformat": 4,
 "nbformat_minor": 4
}
